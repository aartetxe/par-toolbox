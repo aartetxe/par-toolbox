{
 "cells": [
  {
   "cell_type": "markdown",
   "metadata": {},
   "source": [
    "## General example\n",
    "This example covers some of the core functionalities of the toolbox.\n",
    "### Outline\n",
    "- Load a test dataset\n",
    "- Preliminary analysis\n",
    " - Show summary\n",
    " - Show some plots\n",
    "- Preprocess data\n",
    "- Evaluate a classifier\n",
    "- Show some model selection plots"
   ]
  },
  {
   "cell_type": "code",
   "execution_count": null,
   "metadata": {
    "collapsed": true
   },
   "outputs": [],
   "source": [
    "import sys\n",
    "#sys.path.append(\"C:\\\\Users\\\\aartetxe\\\\ARKAITZ\\\\tesis\\\\da-toolbox\\\\datb\")\n",
    "#sys.path.append(\"C:\\\\Users\\\\aartetxe\\\\ARKAITZ\\\\tesis\\\\da-toolbox\")"
   ]
  },
  {
   "cell_type": "code",
   "execution_count": null,
   "metadata": {
    "collapsed": true
   },
   "outputs": [],
   "source": [
    "# Dependencies\n"
   ]
  },
  {
   "cell_type": "code",
   "execution_count": null,
   "metadata": {
    "collapsed": true
   },
   "outputs": [],
   "source": [
    "# Allow hot reload of modules\n",
    "%load_ext autoreload\n",
    "%autoreload 2\n",
    "# Show plots within notebook\n",
    "%matplotlib inline"
   ]
  },
  {
   "cell_type": "code",
   "execution_count": null,
   "metadata": {
    "collapsed": true
   },
   "outputs": [],
   "source": []
  }
 ],
 "metadata": {
  "anaconda-cloud": {},
  "kernelspec": {
   "display_name": "Python [Root]",
   "language": "python",
   "name": "Python [Root]"
  },
  "language_info": {
   "codemirror_mode": {
    "name": "ipython",
    "version": 2
   },
   "file_extension": ".py",
   "mimetype": "text/x-python",
   "name": "python",
   "nbconvert_exporter": "python",
   "pygments_lexer": "ipython2",
   "version": "2.7.12"
  }
 },
 "nbformat": 4,
 "nbformat_minor": 2
}
